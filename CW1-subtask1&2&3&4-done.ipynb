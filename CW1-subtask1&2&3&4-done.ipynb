{
 "cells": [
  {
   "cell_type": "code",
   "execution_count": 2,
   "metadata": {},
   "outputs": [],
   "source": [
    "from IPython.core.interactiveshell import InteractiveShell\n",
    "InteractiveShell.ast_node_interactivity = \"all\""
   ]
  },
  {
   "cell_type": "code",
   "execution_count": 319,
   "metadata": {},
   "outputs": [],
   "source": [
    "import re, string, unicodedata\n",
    "import nltk\n",
    "from nltk.corpus import stopwords\n",
    "from nltk.stem import WordNetLemmatizer\n",
    "import pandas as pd\n",
    "import numpy as np\n",
    "from math import log"
   ]
  },
  {
   "cell_type": "code",
   "execution_count": 2,
   "metadata": {},
   "outputs": [],
   "source": [
    "# nltk.download('stopwords')\n",
    "# nltk.download('punkt')\n",
    "# nltk.download('stopwords')\n",
    "# nltk.download('wordnet')"
   ]
  },
  {
   "cell_type": "code",
   "execution_count": 3,
   "metadata": {},
   "outputs": [],
   "source": [
    "f = open(\"../dataset/passage_collection_new.txt\", 'r', encoding = 'utf-8') "
   ]
  },
  {
   "cell_type": "code",
   "execution_count": 4,
   "metadata": {},
   "outputs": [],
   "source": [
    "document = f.read()"
   ]
  },
  {
   "cell_type": "code",
   "execution_count": 201,
   "metadata": {},
   "outputs": [],
   "source": [
    "header_list = [\"qid\", \"pid\", \"query\", \"passage\"]\n",
    "candidate_passages_top1000 = pd.read_csv(\"../dataset/candidate_passages_top1000.tsv\", sep='\\t', names=header_list)"
   ]
  },
  {
   "cell_type": "code",
   "execution_count": 204,
   "metadata": {},
   "outputs": [],
   "source": [
    "header_list = [\"qid\", \"query\"]\n",
    "test_queries = pd.read_csv(\"../dataset/test-queries.tsv\", sep='\\t', names=header_list)"
   ]
  },
  {
   "cell_type": "markdown",
   "metadata": {},
   "source": [
    "# Preprocessing"
   ]
  },
  {
   "cell_type": "markdown",
   "metadata": {},
   "source": [
    "## Lowercase"
   ]
  },
  {
   "cell_type": "code",
   "execution_count": 7,
   "metadata": {},
   "outputs": [],
   "source": [
    "# document = document.lower()"
   ]
  },
  {
   "cell_type": "markdown",
   "metadata": {},
   "source": [
    "## Tokenizing"
   ]
  },
  {
   "cell_type": "code",
   "execution_count": 8,
   "metadata": {},
   "outputs": [],
   "source": [
    "# tokens = nltk.word_tokenize(document)"
   ]
  },
  {
   "cell_type": "markdown",
   "metadata": {},
   "source": [
    "## Remove Punctuation"
   ]
  },
  {
   "cell_type": "code",
   "execution_count": 9,
   "metadata": {},
   "outputs": [],
   "source": [
    "def remove_punctuation(tokens):\n",
    "    new_tokens = []\n",
    "    for token in tokens:\n",
    "        new_token = re.sub(r'[^\\w\\s]', '', token)\n",
    "        if new_token != '':\n",
    "            new_tokens.append(new_token)\n",
    "    return new_tokens"
   ]
  },
  {
   "cell_type": "code",
   "execution_count": 10,
   "metadata": {},
   "outputs": [],
   "source": [
    "# tokens = remove_punctuation(tokens)"
   ]
  },
  {
   "cell_type": "markdown",
   "metadata": {},
   "source": [
    "## Remove Stopwords"
   ]
  },
  {
   "cell_type": "code",
   "execution_count": 11,
   "metadata": {},
   "outputs": [],
   "source": [
    "def remove_stopwords(tokens):\n",
    "    new_tokens = []\n",
    "    stopword_set = set(stopwords.words('english'))\n",
    "    for token in tokens:\n",
    "        if token not in stopword_set:\n",
    "            new_tokens.append(token)\n",
    "    return new_tokens\n"
   ]
  },
  {
   "cell_type": "code",
   "execution_count": 12,
   "metadata": {},
   "outputs": [],
   "source": [
    "# tokens = remove_stopwords(tokens)"
   ]
  },
  {
   "cell_type": "markdown",
   "metadata": {},
   "source": [
    "## Lemmatization"
   ]
  },
  {
   "cell_type": "code",
   "execution_count": 13,
   "metadata": {},
   "outputs": [],
   "source": [
    "def lemmatize_verbs(tokens):\n",
    "    lemmatizer = WordNetLemmatizer()\n",
    "    root_words = []\n",
    "    for token in tokens:\n",
    "        root_word = lemmatizer.lemmatize(token, pos='v')\n",
    "#         root_word = lemmatizer.lemmatize(token, pos='n')\n",
    "#         root_word = lemmatizer.lemmatize(token, pos='a')\n",
    "        root_words.append(root_word)\n",
    "    return root_words"
   ]
  },
  {
   "cell_type": "code",
   "execution_count": 14,
   "metadata": {},
   "outputs": [],
   "source": [
    "# tokens = lemmatize_verbs(tokens)"
   ]
  },
  {
   "cell_type": "markdown",
   "metadata": {},
   "source": [
    "## Remove numbers"
   ]
  },
  {
   "cell_type": "code",
   "execution_count": 15,
   "metadata": {},
   "outputs": [],
   "source": [
    "def remove_numbers(tokens):\n",
    "    \"\"\"Replace all interger occurrences in list of tokenized words with textual representation\"\"\"\n",
    "    new_tokens = []\n",
    "    for token in tokens:\n",
    "        if token.isdigit():\n",
    "            pass\n",
    "        else:\n",
    "            new_tokens.append(token)\n",
    "    return new_tokens\n"
   ]
  },
  {
   "cell_type": "code",
   "execution_count": 16,
   "metadata": {},
   "outputs": [],
   "source": [
    "# tokens = remove_numbers(tokens)"
   ]
  },
  {
   "cell_type": "code",
   "execution_count": 17,
   "metadata": {},
   "outputs": [],
   "source": [
    "def preprocessing(passage):\n",
    "    passage = passage.lower()\n",
    "    tokens = nltk.word_tokenize(passage)\n",
    "    tokens = remove_punctuation(tokens)\n",
    "    tokens = remove_stopwords(tokens)\n",
    "    tokens = lemmatize_verbs(tokens)\n",
    "    tokens = remove_numbers(tokens)\n",
    "    return tokens"
   ]
  },
  {
   "cell_type": "markdown",
   "metadata": {},
   "source": [
    "## Zipf's law"
   ]
  },
  {
   "cell_type": "markdown",
   "metadata": {},
   "source": [
    "### When demonstrating Zipf's law, we should keep all the stop words, otherwise, the law may not hold."
   ]
  },
  {
   "cell_type": "code",
   "execution_count": 174,
   "metadata": {},
   "outputs": [],
   "source": [
    "document = document.lower()"
   ]
  },
  {
   "cell_type": "code",
   "execution_count": 175,
   "metadata": {},
   "outputs": [],
   "source": [
    "tokens = nltk.word_tokenize(document)\n",
    "tokens = remove_punctuation(tokens)\n",
    "tokens = remove_numbers(tokens)"
   ]
  },
  {
   "cell_type": "code",
   "execution_count": 176,
   "metadata": {},
   "outputs": [],
   "source": [
    "import collections"
   ]
  },
  {
   "cell_type": "code",
   "execution_count": 177,
   "metadata": {},
   "outputs": [],
   "source": [
    "word_frequencies = collections.Counter(tokens)"
   ]
  },
  {
   "cell_type": "code",
   "execution_count": 192,
   "metadata": {},
   "outputs": [
    {
     "data": {
      "text/plain": [
       "42771"
      ]
     },
     "execution_count": 192,
     "metadata": {},
     "output_type": "execute_result"
    }
   ],
   "source": [
    "word_frequencies['this']"
   ]
  },
  {
   "cell_type": "code",
   "execution_count": 179,
   "metadata": {},
   "outputs": [],
   "source": [
    "top_word_frequencies = word_frequencies.most_common()"
   ]
  },
  {
   "cell_type": "code",
   "execution_count": 185,
   "metadata": {},
   "outputs": [],
   "source": [
    "total_number_words = len(tokens)\n",
    "def get_constant_c(top_word_frequencies):\n",
    "    c = 0\n",
    "    total_unique_word_number = len(top_word_frequencies)\n",
    "    for idx, (word, frequnecy) in enumerate(top_word_frequencies):\n",
    "        rank = idx + 1\n",
    "        prob = frequnecy / total_number_words\n",
    "        c += rank * prob\n",
    "    result = c / total_unique_word_number\n",
    "    return result\n"
   ]
  },
  {
   "cell_type": "markdown",
   "metadata": {},
   "source": [
    "## Plot Zipf's Law"
   ]
  },
  {
   "cell_type": "code",
   "execution_count": 300,
   "metadata": {},
   "outputs": [],
   "source": [
    "def get_total_words(number_of_words):\n",
    "    total_words = 0\n",
    "    for (word, freq) in top_word_frequencies[:number_of_words]:\n",
    "        total_words += freq\n",
    "    return total_words\n",
    "\n",
    "def get_occurence_prob_list(number_of_words):\n",
    "    number_of_total_words = get_total_words(number_of_words)\n",
    "    prob_list = []\n",
    "    for (word, freq) in top_word_frequencies[:number_of_words]:\n",
    "        prob_list.append(freq / number_of_total_words)\n",
    "    return prob_list"
   ]
  },
  {
   "cell_type": "code",
   "execution_count": 303,
   "metadata": {},
   "outputs": [
    {
     "data": {
      "image/png": "[encoded data removed]",
      "text/plain": [
       "<Figure size 576x396 with 1 Axes>"
      ]
     },
     "metadata": {},
     "output_type": "display_data"
    }
   ],
   "source": [
    "import re\n",
    "import matplotlib.pyplot as plt\n",
    "from scipy import special\n",
    "import numpy as np\n",
    "\n",
    "n = 100\n",
    "\n",
    "frequency = {}\n",
    "\n",
    "for token, freq in top_word_frequencies[0:n]:\n",
    "    frequency[token] = freq\n",
    "\n",
    "\n",
    "x = np.arange(1., n+1)\n",
    "y = get_occurence_prob_list(n)\n",
    "plt.plot(x, y, linewidth=2, color='r')\n",
    "plt.show()"
   ]
  },
  {
   "cell_type": "code",
   "execution_count": 307,
   "metadata": {},
   "outputs": [
    {
     "data": {
      "image/png": "[encoded data removed]",
      "text/plain": [
       "<Figure size 576x396 with 1 Axes>"
      ]
     },
     "metadata": {},
     "output_type": "display_data"
    }
   ],
   "source": [
    "import re\n",
    "import matplotlib.pyplot as plt\n",
    "import numpy as np\n",
    "\n",
    "n = 100\n",
    "\n",
    "frequency = {}\n",
    "\n",
    "for token, freq in top_word_frequencies[0:n]:\n",
    "    frequency[token] = freq\n",
    "\n",
    "x = np.arange(1., n+1)\n",
    "y = get_occurence_prob_list(n)\n",
    "plt.xscale('log')\n",
    "plt.yscale('log')\n",
    "plt.plot(x, y, linewidth=2, color='r')\n",
    "plt.show()"
   ]
  },
  {
   "cell_type": "code",
   "execution_count": 309,
   "metadata": {},
   "outputs": [],
   "source": [
    "def get_ideal_zipf_probs(number_of_unique_words):\n",
    "    c = 0.1\n",
    "    zipf_probs = []\n",
    "    for i in range(number_of_unique_words):\n",
    "        ranking = i + 1\n",
    "        occurence_prob = c / ranking\n",
    "        zipf_probs.append(occurence_prob)\n",
    "    return zipf_probs"
   ]
  },
  {
   "cell_type": "code",
   "execution_count": 312,
   "metadata": {},
   "outputs": [
    {
     "data": {
      "image/png": "[encoded data removed]",
      "text/plain": [
       "<Figure size 576x396 with 1 Axes>"
      ]
     },
     "metadata": {},
     "output_type": "display_data"
    }
   ],
   "source": [
    "x = np.arange(1., n+1)\n",
    "y = get_ideal_zipf_probs(n)\n",
    "plt.plot(x, y, linewidth=2, color='r')\n",
    "plt.show()"
   ]
  },
  {
   "cell_type": "code",
   "execution_count": 313,
   "metadata": {},
   "outputs": [
    {
     "data": {
      "image/png": "[encoded data removed]",
      "text/plain": [
       "<Figure size 576x396 with 1 Axes>"
      ]
     },
     "metadata": {},
     "output_type": "display_data"
    }
   ],
   "source": [
    "x = np.arange(1., n+1)\n",
    "y = get_ideal_zipf_probs(n)\n",
    "plt.xscale('log')\n",
    "plt.yscale('log')\n",
    "plt.plot(x, y, linewidth=2, color='r')\n",
    "plt.show()"
   ]
  },
  {
   "cell_type": "code",
   "execution_count": 317,
   "metadata": {},
   "outputs": [
    {
     "data": {
      "image/png": "[encoded data removed]",
      "text/plain": [
       "<Figure size 576x396 with 1 Axes>"
      ]
     },
     "metadata": {},
     "output_type": "display_data"
    }
   ],
   "source": [
    "n = 100\n",
    "x = np.arange(1., n+1)\n",
    "y = get_ideal_zipf_probs(n)\n",
    "y2 = get_occurence_prob_list(n)\n",
    "plt.plot(x, y, linewidth=2, color='r')\n",
    "plt.plot(x, y2, linewidth=2, color='b')\n",
    "plt.legend([\"Ideal Zipf's Law\", \"Actual Zipf's Law\"], loc =\"upper right\")\n",
    "plt.show()"
   ]
  },
  {
   "cell_type": "code",
   "execution_count": 318,
   "metadata": {},
   "outputs": [
    {
     "data": {
      "image/png": "[encoded data removed]",
      "text/plain": [
       "<Figure size 576x396 with 1 Axes>"
      ]
     },
     "metadata": {},
     "output_type": "display_data"
    }
   ],
   "source": [
    "n = 100\n",
    "x = np.arange(1., n+1)\n",
    "y = get_ideal_zipf_probs(n)\n",
    "y2 = get_occurence_prob_list(n)\n",
    "plt.xscale('log')\n",
    "plt.yscale('log')\n",
    "plt.plot(x, y, linewidth=2, color='r')\n",
    "plt.plot(x, y2, linewidth=2, color='b')\n",
    "plt.legend([\"Ideal Zipf's Law\", \"Actual Zipf's Law\"], loc =\"upper right\")\n",
    "plt.show()"
   ]
  },
  {
   "cell_type": "markdown",
   "metadata": {},
   "source": [
    "# Inverted Index"
   ]
  },
  {
   "cell_type": "code",
   "execution_count": 18,
   "metadata": {},
   "outputs": [],
   "source": [
    "candidate_passages_top1000_no_dup = candidate_passages_top1000.drop_duplicates(subset=['pid'], inplace=False)"
   ]
  },
  {
   "cell_type": "code",
   "execution_count": 19,
   "metadata": {},
   "outputs": [
    {
     "name": "stdout",
     "output_type": "stream",
     "text": [
      "278.8622319698334\n"
     ]
    }
   ],
   "source": [
    "import time\n",
    "\n",
    "start = time.time()\n",
    "inverted_index = {}\n",
    "\n",
    "for idx, row in candidate_passages_top1000_no_dup.iterrows():\n",
    "    pid = row['pid']\n",
    "    tokens = preprocessing(row['passage'])\n",
    "    freqDist = nltk.FreqDist(tokens)\n",
    "    passage_words_count = len(tokens)\n",
    "    for token, freq in freqDist.items():\n",
    "        inverted_index.setdefault(token, [])\n",
    "        inverted_index[token].append((pid, freq, passage_words_count))\n",
    "\n",
    "end = time.time()\n",
    "print(end - start)"
   ]
  },
  {
   "cell_type": "markdown",
   "metadata": {},
   "source": [
    "# Subtask 3"
   ]
  },
  {
   "cell_type": "markdown",
   "metadata": {},
   "source": [
    "## Caluclate TF-IDF"
   ]
  },
  {
   "cell_type": "code",
   "execution_count": 20,
   "metadata": {},
   "outputs": [],
   "source": [
    "import numpy as np\n",
    "tf_idf = {}\n",
    "number_of_passages = len(candidate_passages_top1000_no_dup)\n",
    "for token, tuple_list in inverted_index.items():\n",
    "    df = len(tuple_list)\n",
    "    for pid, freq, passage_word_count in tuple_list:\n",
    "        tf = freq/passage_word_count\n",
    "        idf = np.log((number_of_passages+1)/(df+1))\n",
    "        tf_idf[pid, token] = tf*idf"
   ]
  },
  {
   "cell_type": "markdown",
   "metadata": {},
   "source": [
    "## Vectors Representation + top100"
   ]
  },
  {
   "cell_type": "code",
   "execution_count": 21,
   "metadata": {},
   "outputs": [],
   "source": [
    "total_tokens = list(inverted_index.keys())"
   ]
  },
  {
   "cell_type": "code",
   "execution_count": 22,
   "metadata": {},
   "outputs": [],
   "source": [
    "num_of_words = len(total_tokens)\n",
    "number_of_passages = len(candidate_passages_top1000_no_dup)\n",
    "def query_vector_generate(tokens):\n",
    "\n",
    "    queryVector = np.zeros((num_of_words))\n",
    "    \n",
    "    queryFreqDist = nltk.FreqDist(tokens)\n",
    "    words_count = len(tokens)\n",
    "    \n",
    "    for token in np.unique(tokens):\n",
    "        \n",
    "        tf = queryFreqDist[token]/words_count\n",
    "        try:\n",
    "            df = len(inverted_index[token])\n",
    "        except:\n",
    "            df = 0\n",
    "        idf = math.log((number_of_passages+1)/(df+1))\n",
    "\n",
    "        try:\n",
    "            idx = total_tokens.index(token)\n",
    "            queryVector[idx] = tf*idf\n",
    "        except:\n",
    "            pass\n",
    "    return queryVector"
   ]
  },
  {
   "cell_type": "code",
   "execution_count": 23,
   "metadata": {},
   "outputs": [],
   "source": [
    "def passage_vector_generate(tokens, pid):\n",
    "    passageVector = np.zeros((num_of_words))\n",
    "    \n",
    "    for token in np.unique(tokens):\n",
    "        try:\n",
    "            idx = total_tokens.index(token)\n",
    "            passageVector[idx] = tf_idf[(pid, token)]\n",
    "        except:\n",
    "            pass\n",
    "    return passageVector\n",
    "    "
   ]
  },
  {
   "cell_type": "code",
   "execution_count": 24,
   "metadata": {},
   "outputs": [],
   "source": [
    "def cosine_sim_formula(a, b):\n",
    "    cos_sim = np.dot(a, b)/(np.linalg.norm(a)*np.linalg.norm(b))\n",
    "    return cos_sim"
   ]
  },
  {
   "cell_type": "code",
   "execution_count": 25,
   "metadata": {},
   "outputs": [],
   "source": [
    "def cosine_similarity_cal(query, passage, pid):\n",
    "    query_tokens = preprocessing(query)\n",
    "    passage_tokens = preprocessing(passage)\n",
    "        \n",
    "    query_vector = query_vector_generate(query_tokens)\n",
    "    passage_vector = passage_vector_generate(passage_tokens, pid)\n",
    "    \n",
    "    \n",
    "    return cosine_sim_formula(query_vector, passage_vector)\n",
    "    "
   ]
  },
  {
   "cell_type": "code",
   "execution_count": 26,
   "metadata": {},
   "outputs": [],
   "source": [
    "def cosine_similarity_ranking(number_of_retrieved, cosine_sim_array):\n",
    "    result = np.array(cosine_sim_array).argsort()[-number_of_retrieved:][::-1]\n",
    "    return result"
   ]
  },
  {
   "cell_type": "code",
   "execution_count": 213,
   "metadata": {},
   "outputs": [
    {
     "name": "stdout",
     "output_type": "stream",
     "text": [
      "idx: 1\n",
      "idx: 2\n",
      "idx: 3\n",
      "idx: 4\n",
      "idx: 5\n",
      "idx: 6\n",
      "idx: 7\n",
      "idx: 8\n",
      "idx: 9\n",
      "idx: 10\n",
      "idx: 11\n",
      "idx: 12\n",
      "idx: 13\n",
      "idx: 14\n",
      "idx: 15\n",
      "idx: 16\n",
      "idx: 17\n",
      "idx: 18\n",
      "idx: 19\n",
      "idx: 20\n",
      "idx: 21\n",
      "idx: 22\n",
      "idx: 23\n",
      "idx: 24\n",
      "idx: 25\n",
      "idx: 26\n",
      "idx: 27\n",
      "idx: 28\n",
      "idx: 29\n",
      "idx: 30\n",
      "idx: 31\n",
      "idx: 32\n",
      "idx: 33\n",
      "idx: 34\n",
      "idx: 35\n",
      "idx: 36\n",
      "idx: 37\n",
      "idx: 38\n",
      "idx: 39\n",
      "idx: 40\n",
      "idx: 41\n",
      "idx: 42\n",
      "idx: 43\n",
      "idx: 44\n",
      "idx: 45\n",
      "idx: 46\n",
      "idx: 47\n",
      "idx: 48\n",
      "idx: 49\n",
      "idx: 50\n",
      "idx: 51\n",
      "idx: 52\n",
      "idx: 53\n",
      "idx: 54\n",
      "idx: 55\n",
      "idx: 56\n",
      "idx: 57\n",
      "idx: 58\n",
      "idx: 59\n",
      "idx: 60\n",
      "idx: 61\n",
      "idx: 62\n",
      "idx: 63\n",
      "idx: 64\n",
      "idx: 65\n",
      "idx: 66\n",
      "idx: 67\n",
      "idx: 68\n",
      "idx: 69\n",
      "idx: 70\n",
      "idx: 71\n",
      "idx: 72\n",
      "idx: 73\n",
      "idx: 74\n",
      "idx: 75\n",
      "idx: 76\n",
      "idx: 77\n",
      "idx: 78\n",
      "idx: 79\n",
      "idx: 80\n",
      "idx: 81\n",
      "idx: 82\n",
      "idx: 83\n",
      "idx: 84\n",
      "idx: 85\n",
      "idx: 86\n",
      "idx: 87\n",
      "idx: 88\n",
      "idx: 89\n",
      "idx: 90\n",
      "idx: 91\n",
      "idx: 92\n",
      "idx: 93\n",
      "idx: 94\n",
      "idx: 95\n",
      "idx: 96\n",
      "idx: 97\n",
      "idx: 98\n",
      "idx: 99\n",
      "idx: 100\n",
      "idx: 101\n",
      "idx: 102\n",
      "idx: 103\n",
      "idx: 104\n",
      "idx: 105\n",
      "idx: 106\n",
      "idx: 107\n",
      "idx: 108\n",
      "idx: 109\n",
      "idx: 110\n",
      "idx: 111\n",
      "idx: 112\n",
      "idx: 113\n",
      "idx: 114\n",
      "idx: 115\n",
      "idx: 116\n",
      "idx: 117\n",
      "idx: 118\n",
      "idx: 119\n",
      "idx: 120\n",
      "idx: 121\n",
      "idx: 122\n",
      "idx: 123\n",
      "idx: 124\n",
      "idx: 125\n",
      "idx: 126\n",
      "idx: 127\n",
      "idx: 128\n",
      "idx: 129\n",
      "idx: 130\n",
      "idx: 131\n",
      "idx: 132\n",
      "idx: 133\n",
      "idx: 134\n",
      "idx: 135\n",
      "idx: 136\n",
      "idx: 137\n",
      "idx: 138\n",
      "idx: 139\n",
      "idx: 140\n",
      "idx: 141\n",
      "idx: 142\n",
      "idx: 143\n",
      "idx: 144\n",
      "idx: 145\n",
      "idx: 146\n",
      "idx: 147\n",
      "idx: 148\n",
      "idx: 149\n",
      "idx: 150\n",
      "idx: 151\n",
      "idx: 152\n",
      "idx: 153\n",
      "idx: 154\n",
      "idx: 155\n",
      "idx: 156\n",
      "idx: 157\n",
      "idx: 158\n",
      "idx: 159\n",
      "idx: 160\n",
      "idx: 161\n",
      "idx: 162\n",
      "idx: 163\n",
      "idx: 164\n",
      "idx: 165\n",
      "idx: 166\n",
      "idx: 167\n",
      "idx: 168\n",
      "idx: 169\n",
      "idx: 170\n",
      "idx: 171\n",
      "idx: 172\n",
      "idx: 173\n",
      "idx: 174\n",
      "idx: 175\n",
      "idx: 176\n",
      "idx: 177\n",
      "idx: 178\n",
      "idx: 179\n",
      "idx: 180\n",
      "idx: 181\n",
      "idx: 182\n",
      "idx: 183\n",
      "idx: 184\n",
      "idx: 185\n",
      "idx: 186\n",
      "idx: 187\n",
      "idx: 188\n",
      "idx: 189\n",
      "idx: 190\n",
      "idx: 191\n",
      "idx: 192\n",
      "idx: 193\n",
      "idx: 194\n",
      "idx: 195\n",
      "idx: 196\n",
      "idx: 197\n",
      "idx: 198\n",
      "idx: 199\n",
      "idx: 200\n"
     ]
    }
   ],
   "source": [
    "simlarity_values_dict = {}\n",
    "for idx, row in test_queries.iterrows():\n",
    "    print(\"idx:\",idx + 1)\n",
    "    qid = row['qid']\n",
    "    simlarity_values_dict[qid] = []\n",
    "    passages_top1000_df = candidate_passages_top1000[candidate_passages_top1000['qid'] == qid]\n",
    "    for idx2, row2 in passages_top1000_df.iterrows():\n",
    "        pid = row2['pid']\n",
    "        passage = row2['passage']\n",
    "        query = row2['query']\n",
    "        simlarity_values_dict[qid].append(cosine_similarity_cal(query, passage, pid))"
   ]
  },
  {
   "cell_type": "code",
   "execution_count": 217,
   "metadata": {},
   "outputs": [],
   "source": [
    "results_VS = {}\n",
    "for idx, row in test_queries.iterrows():\n",
    "    qid = row['qid']\n",
    "    results_VS[qid] = cosine_similarity_ranking(100, simlarity_values_dict[qid])"
   ]
  },
  {
   "cell_type": "code",
   "execution_count": 241,
   "metadata": {},
   "outputs": [],
   "source": [
    "tf_idf_top100_each_query_df = {}\n",
    "for qid, idx_list in results_VS.items():\n",
    "    passages_top1000_df = candidate_passages_top1000[candidate_passages_top1000['qid'] == qid]\n",
    "    passages_top1000_df = passages_top1000_df.reset_index(drop=True)\n",
    "    tf_idf_top100 = passages_top1000_df.loc[idx_list]\n",
    "    tf_idf_top100 = tf_idf_top100.reset_index(drop=True)\n",
    "    tf_idf_top100['score'] = np.array(simlarity_values_dict[qid])[idx_list]\n",
    "    tf_idf_top100_each_query_df[qid] = tf_idf_top100"
   ]
  },
  {
   "cell_type": "code",
   "execution_count": 244,
   "metadata": {},
   "outputs": [],
   "source": [
    "f = open(\"VS.txt\", \"w\")\n",
    "for df in tf_idf_top100_each_query_df.values():\n",
    "    for idx, row in df.iterrows():\n",
    "        qid = str(row['qid'])\n",
    "        pid = str(row['pid'])\n",
    "        score = str(row['score'])\n",
    "        rank = str(idx + 1)\n",
    "        f.write(qid + \" A1 \" + pid + \" \" + rank + \" \" + score + \" VS\" + \"\\n\")\n",
    "f.close()"
   ]
  },
  {
   "cell_type": "markdown",
   "metadata": {},
   "source": [
    "# BM25"
   ]
  },
  {
   "cell_type": "code",
   "execution_count": 30,
   "metadata": {},
   "outputs": [],
   "source": [
    "def get_passage_average_length_and_total_word_occurences_corpus():\n",
    "    number_of_passages = len(candidate_passages_top1000_no_dup)\n",
    "    count_total_length = 0\n",
    "    for idx, row in candidate_passages_top1000_no_dup.iterrows():\n",
    "        count_total_length += len(preprocessing(row['passage']))\n",
    "    return count_total_length, count_total_length/number_of_passages \n"
   ]
  },
  {
   "cell_type": "code",
   "execution_count": 31,
   "metadata": {},
   "outputs": [],
   "source": [
    "total_word_occurences, avdl = get_passage_average_length_and_total_word_occurences_corpus()"
   ]
  },
  {
   "cell_type": "code",
   "execution_count": 32,
   "metadata": {},
   "outputs": [],
   "source": [
    "k1 = 1.2\n",
    "k2 = 100\n",
    "b = 0.75\n",
    "R = 0\n",
    "r = 0\n",
    "N = number_of_passages\n",
    "\n",
    "def K_cal(dl):\n",
    "    return k1 * ((1-b) + b * (float(dl)/float(avdl)) )\n",
    "\n",
    "\n",
    "def BM25_cal(query, passage):\n",
    "    query_tokens = preprocessing(query)\n",
    "    passage_tokens = preprocessing(passage)\n",
    "    query_length = len(query_tokens)\n",
    "    query_token_freq_dict = nltk.FreqDist(query_tokens)\n",
    "    passage_token_freq_dict = nltk.FreqDist(passage_tokens)\n",
    "    dl = len(passage_tokens)\n",
    "    K = K_cal(dl)\n",
    "    score = 0\n",
    "    for token in query_tokens:\n",
    "        try:\n",
    "            n = len(inverted_index[token])\n",
    "        except:\n",
    "            n = 0\n",
    "        f = passage_token_freq_dict[token]\n",
    "        qf = query_token_freq_dict[token]\n",
    "        first_term = log( ( (r + 0.5) / (R - r + 0.5) ) / ( (n - r + 0.5) / (N - n - R + r + 0.5)) )\n",
    "        second_term = ((k1 + 1) * f) / (K + f)\n",
    "        third_term = ((k2+1) * qf) / (k2 + qf)\n",
    "        score += first_term * second_term * third_term\n",
    "    return score\n",
    "    "
   ]
  },
  {
   "cell_type": "code",
   "execution_count": 248,
   "metadata": {},
   "outputs": [
    {
     "name": "stdout",
     "output_type": "stream",
     "text": [
      "idx: 1\n",
      "idx: 2\n",
      "idx: 3\n",
      "idx: 4\n",
      "idx: 5\n",
      "idx: 6\n",
      "idx: 7\n",
      "idx: 8\n",
      "idx: 9\n",
      "idx: 10\n",
      "idx: 11\n",
      "idx: 12\n",
      "idx: 13\n",
      "idx: 14\n",
      "idx: 15\n",
      "idx: 16\n",
      "idx: 17\n",
      "idx: 18\n",
      "idx: 19\n",
      "idx: 20\n",
      "idx: 21\n",
      "idx: 22\n",
      "idx: 23\n",
      "idx: 24\n",
      "idx: 25\n",
      "idx: 26\n",
      "idx: 27\n",
      "idx: 28\n",
      "idx: 29\n",
      "idx: 30\n",
      "idx: 31\n",
      "idx: 32\n",
      "idx: 33\n",
      "idx: 34\n",
      "idx: 35\n",
      "idx: 36\n",
      "idx: 37\n",
      "idx: 38\n",
      "idx: 39\n",
      "idx: 40\n",
      "idx: 41\n",
      "idx: 42\n",
      "idx: 43\n",
      "idx: 44\n",
      "idx: 45\n",
      "idx: 46\n",
      "idx: 47\n",
      "idx: 48\n",
      "idx: 49\n",
      "idx: 50\n",
      "idx: 51\n",
      "idx: 52\n",
      "idx: 53\n",
      "idx: 54\n",
      "idx: 55\n",
      "idx: 56\n",
      "idx: 57\n",
      "idx: 58\n",
      "idx: 59\n",
      "idx: 60\n",
      "idx: 61\n",
      "idx: 62\n",
      "idx: 63\n",
      "idx: 64\n",
      "idx: 65\n",
      "idx: 66\n",
      "idx: 67\n",
      "idx: 68\n",
      "idx: 69\n",
      "idx: 70\n",
      "idx: 71\n",
      "idx: 72\n",
      "idx: 73\n",
      "idx: 74\n",
      "idx: 75\n",
      "idx: 76\n",
      "idx: 77\n",
      "idx: 78\n",
      "idx: 79\n",
      "idx: 80\n",
      "idx: 81\n",
      "idx: 82\n",
      "idx: 83\n",
      "idx: 84\n",
      "idx: 85\n",
      "idx: 86\n",
      "idx: 87\n",
      "idx: 88\n",
      "idx: 89\n",
      "idx: 90\n",
      "idx: 91\n",
      "idx: 92\n",
      "idx: 93\n",
      "idx: 94\n",
      "idx: 95\n",
      "idx: 96\n",
      "idx: 97\n",
      "idx: 98\n",
      "idx: 99\n",
      "idx: 100\n",
      "idx: 101\n",
      "idx: 102\n",
      "idx: 103\n",
      "idx: 104\n",
      "idx: 105\n",
      "idx: 106\n",
      "idx: 107\n",
      "idx: 108\n",
      "idx: 109\n",
      "idx: 110\n",
      "idx: 111\n",
      "idx: 112\n",
      "idx: 113\n",
      "idx: 114\n",
      "idx: 115\n",
      "idx: 116\n",
      "idx: 117\n",
      "idx: 118\n",
      "idx: 119\n",
      "idx: 120\n",
      "idx: 121\n",
      "idx: 122\n",
      "idx: 123\n",
      "idx: 124\n",
      "idx: 125\n",
      "idx: 126\n",
      "idx: 127\n",
      "idx: 128\n",
      "idx: 129\n",
      "idx: 130\n",
      "idx: 131\n",
      "idx: 132\n",
      "idx: 133\n",
      "idx: 134\n",
      "idx: 135\n",
      "idx: 136\n",
      "idx: 137\n",
      "idx: 138\n",
      "idx: 139\n",
      "idx: 140\n",
      "idx: 141\n",
      "idx: 142\n",
      "idx: 143\n",
      "idx: 144\n",
      "idx: 145\n",
      "idx: 146\n",
      "idx: 147\n",
      "idx: 148\n",
      "idx: 149\n",
      "idx: 150\n",
      "idx: 151\n",
      "idx: 152\n",
      "idx: 153\n",
      "idx: 154\n",
      "idx: 155\n",
      "idx: 156\n",
      "idx: 157\n",
      "idx: 158\n",
      "idx: 159\n",
      "idx: 160\n",
      "idx: 161\n",
      "idx: 162\n",
      "idx: 163\n",
      "idx: 164\n",
      "idx: 165\n",
      "idx: 166\n",
      "idx: 167\n",
      "idx: 168\n",
      "idx: 169\n",
      "idx: 170\n",
      "idx: 171\n",
      "idx: 172\n",
      "idx: 173\n",
      "idx: 174\n",
      "idx: 175\n",
      "idx: 176\n",
      "idx: 177\n",
      "idx: 178\n",
      "idx: 179\n",
      "idx: 180\n",
      "idx: 181\n",
      "idx: 182\n",
      "idx: 183\n",
      "idx: 184\n",
      "idx: 185\n",
      "idx: 186\n",
      "idx: 187\n",
      "idx: 188\n",
      "idx: 189\n",
      "idx: 190\n",
      "idx: 191\n",
      "idx: 192\n",
      "idx: 193\n",
      "idx: 194\n",
      "idx: 195\n",
      "idx: 196\n",
      "idx: 197\n",
      "idx: 198\n",
      "idx: 199\n",
      "idx: 200\n"
     ]
    }
   ],
   "source": [
    "bm25_cal_dict = {}\n",
    "for idx, row in test_queries.iterrows():\n",
    "    print(\"idx:\",idx + 1)\n",
    "    qid = row['qid']\n",
    "    bm25_cal_dict[qid] = []\n",
    "    passages_top1000_df = candidate_passages_top1000[candidate_passages_top1000['qid'] == qid]\n",
    "    for idx2, row2 in passages_top1000_df.iterrows():\n",
    "        passage = row2['passage']\n",
    "        query = row2['query']\n",
    "        bm25_cal_dict[qid].append(BM25_cal(query, passage))"
   ]
  },
  {
   "cell_type": "code",
   "execution_count": 249,
   "metadata": {},
   "outputs": [],
   "source": [
    "def bm25_ranking(number_of_retrieved, bm25_array):\n",
    "    result = np.array(bm25_array).argsort()[-number_of_retrieved:][::-1]\n",
    "    return result"
   ]
  },
  {
   "cell_type": "code",
   "execution_count": 250,
   "metadata": {},
   "outputs": [],
   "source": [
    "results_bm25 = {}\n",
    "for idx, row in test_queries.iterrows():\n",
    "    qid = row['qid']\n",
    "    results_bm25[qid] = bm25_ranking(100, bm25_cal_dict[qid])"
   ]
  },
  {
   "cell_type": "code",
   "execution_count": 251,
   "metadata": {},
   "outputs": [],
   "source": [
    "bm25_top100_each_query_df = {}\n",
    "for qid, idx_list in results_bm25.items():\n",
    "    passages_top1000_df = candidate_passages_top1000[candidate_passages_top1000['qid'] == qid]\n",
    "    passages_top1000_df = passages_top1000_df.reset_index(drop=True)\n",
    "    bm25_top100 = passages_top1000_df.loc[idx_list]\n",
    "    bm25_top100 = bm25_top100.reset_index(drop=True)\n",
    "    bm25_top100['score'] = np.array(bm25_cal_dict[qid])[idx_list]\n",
    "    bm25_top100_each_query_df[qid] = bm25_top100"
   ]
  },
  {
   "cell_type": "code",
   "execution_count": 252,
   "metadata": {},
   "outputs": [],
   "source": [
    "f = open(\"BM25.txt\", \"w\")\n",
    "for df in bm25_top100_each_query_df.values():\n",
    "    for idx, row in df.iterrows():\n",
    "        qid = str(row['qid'])\n",
    "        pid = str(row['pid'])\n",
    "        score = str(row['score'])\n",
    "        rank = str(idx + 1)\n",
    "        f.write(qid + \" A1 \" + pid + \" \" + rank + \" \" + score + \" BM25\" + \"\\n\")\n",
    "f.close()"
   ]
  },
  {
   "cell_type": "markdown",
   "metadata": {},
   "source": [
    "# Subtask 4"
   ]
  },
  {
   "cell_type": "markdown",
   "metadata": {},
   "source": [
    "## Calcu"
   ]
  },
  {
   "cell_type": "code",
   "execution_count": 58,
   "metadata": {},
   "outputs": [],
   "source": [
    "## calculate Y\n",
    "V = 0\n",
    "dict_temp = {}\n",
    "for idx, row in candidate_passages_top1000_no_dup.iterrows():\n",
    "    tokens = preprocessing(row['passage'])\n",
    "    for token in tokens:\n",
    "        inverted_index.setdefault(token, 1)\n",
    "    \n",
    "V = len(list_temp)"
   ]
  },
  {
   "cell_type": "markdown",
   "metadata": {},
   "source": [
    "## Laplace"
   ]
  },
  {
   "cell_type": "code",
   "execution_count": 116,
   "metadata": {},
   "outputs": [],
   "source": [
    "def QLModel_Laplace(query, passage):\n",
    "    query_tokens = preprocessing(query)\n",
    "    passage_tokens = preprocessing(passage)\n",
    "    D = len(passage_tokens)\n",
    "    passage_token_freq_dict = nltk.FreqDist(passage_tokens)\n",
    "    distribution = 0\n",
    "    for token in query_tokens:\n",
    "#         distribution *= ((passage_token_freq_dict[token] + 1)/(D + V))\n",
    "        distribution += log((passage_token_freq_dict[token] + 1)/(D + V))\n",
    "        \n",
    "    return distribution\n",
    "    "
   ]
  },
  {
   "cell_type": "code",
   "execution_count": null,
   "metadata": {},
   "outputs": [],
   "source": []
  },
  {
   "cell_type": "code",
   "execution_count": 253,
   "metadata": {},
   "outputs": [
    {
     "name": "stdout",
     "output_type": "stream",
     "text": [
      "idx: 1\n",
      "idx: 2\n",
      "idx: 3\n",
      "idx: 4\n",
      "idx: 5\n",
      "idx: 6\n",
      "idx: 7\n",
      "idx: 8\n",
      "idx: 9\n",
      "idx: 10\n",
      "idx: 11\n",
      "idx: 12\n",
      "idx: 13\n",
      "idx: 14\n",
      "idx: 15\n",
      "idx: 16\n",
      "idx: 17\n",
      "idx: 18\n",
      "idx: 19\n",
      "idx: 20\n",
      "idx: 21\n",
      "idx: 22\n",
      "idx: 23\n",
      "idx: 24\n",
      "idx: 25\n",
      "idx: 26\n",
      "idx: 27\n",
      "idx: 28\n",
      "idx: 29\n",
      "idx: 30\n",
      "idx: 31\n",
      "idx: 32\n",
      "idx: 33\n",
      "idx: 34\n",
      "idx: 35\n",
      "idx: 36\n",
      "idx: 37\n",
      "idx: 38\n",
      "idx: 39\n",
      "idx: 40\n",
      "idx: 41\n",
      "idx: 42\n",
      "idx: 43\n",
      "idx: 44\n",
      "idx: 45\n",
      "idx: 46\n",
      "idx: 47\n",
      "idx: 48\n",
      "idx: 49\n",
      "idx: 50\n",
      "idx: 51\n",
      "idx: 52\n",
      "idx: 53\n",
      "idx: 54\n",
      "idx: 55\n",
      "idx: 56\n",
      "idx: 57\n",
      "idx: 58\n",
      "idx: 59\n",
      "idx: 60\n",
      "idx: 61\n",
      "idx: 62\n",
      "idx: 63\n",
      "idx: 64\n",
      "idx: 65\n",
      "idx: 66\n",
      "idx: 67\n",
      "idx: 68\n",
      "idx: 69\n",
      "idx: 70\n",
      "idx: 71\n",
      "idx: 72\n",
      "idx: 73\n",
      "idx: 74\n",
      "idx: 75\n",
      "idx: 76\n",
      "idx: 77\n",
      "idx: 78\n",
      "idx: 79\n",
      "idx: 80\n",
      "idx: 81\n",
      "idx: 82\n",
      "idx: 83\n",
      "idx: 84\n",
      "idx: 85\n",
      "idx: 86\n",
      "idx: 87\n",
      "idx: 88\n",
      "idx: 89\n",
      "idx: 90\n",
      "idx: 91\n",
      "idx: 92\n",
      "idx: 93\n",
      "idx: 94\n",
      "idx: 95\n",
      "idx: 96\n",
      "idx: 97\n",
      "idx: 98\n",
      "idx: 99\n",
      "idx: 100\n",
      "idx: 101\n",
      "idx: 102\n",
      "idx: 103\n",
      "idx: 104\n",
      "idx: 105\n",
      "idx: 106\n",
      "idx: 107\n",
      "idx: 108\n",
      "idx: 109\n",
      "idx: 110\n",
      "idx: 111\n",
      "idx: 112\n",
      "idx: 113\n",
      "idx: 114\n",
      "idx: 115\n",
      "idx: 116\n",
      "idx: 117\n",
      "idx: 118\n",
      "idx: 119\n",
      "idx: 120\n",
      "idx: 121\n",
      "idx: 122\n",
      "idx: 123\n",
      "idx: 124\n",
      "idx: 125\n",
      "idx: 126\n",
      "idx: 127\n",
      "idx: 128\n",
      "idx: 129\n",
      "idx: 130\n",
      "idx: 131\n",
      "idx: 132\n",
      "idx: 133\n",
      "idx: 134\n",
      "idx: 135\n",
      "idx: 136\n",
      "idx: 137\n",
      "idx: 138\n",
      "idx: 139\n",
      "idx: 140\n",
      "idx: 141\n",
      "idx: 142\n",
      "idx: 143\n",
      "idx: 144\n",
      "idx: 145\n",
      "idx: 146\n",
      "idx: 147\n",
      "idx: 148\n",
      "idx: 149\n",
      "idx: 150\n",
      "idx: 151\n",
      "idx: 152\n",
      "idx: 153\n",
      "idx: 154\n",
      "idx: 155\n",
      "idx: 156\n",
      "idx: 157\n",
      "idx: 158\n",
      "idx: 159\n",
      "idx: 160\n",
      "idx: 161\n",
      "idx: 162\n",
      "idx: 163\n",
      "idx: 164\n",
      "idx: 165\n",
      "idx: 166\n",
      "idx: 167\n",
      "idx: 168\n",
      "idx: 169\n",
      "idx: 170\n",
      "idx: 171\n",
      "idx: 172\n",
      "idx: 173\n",
      "idx: 174\n",
      "idx: 175\n",
      "idx: 176\n",
      "idx: 177\n",
      "idx: 178\n",
      "idx: 179\n",
      "idx: 180\n",
      "idx: 181\n",
      "idx: 182\n",
      "idx: 183\n",
      "idx: 184\n",
      "idx: 185\n",
      "idx: 186\n",
      "idx: 187\n",
      "idx: 188\n",
      "idx: 189\n",
      "idx: 190\n",
      "idx: 191\n",
      "idx: 192\n",
      "idx: 193\n",
      "idx: 194\n",
      "idx: 195\n",
      "idx: 196\n",
      "idx: 197\n",
      "idx: 198\n",
      "idx: 199\n",
      "idx: 200\n"
     ]
    }
   ],
   "source": [
    "laplace_cal_dict = {}\n",
    "for idx, row in test_queries.iterrows():\n",
    "    print(\"idx:\",idx + 1)\n",
    "    qid = row['qid']\n",
    "    laplace_cal_dict[qid] = []\n",
    "    passages_top1000_df = candidate_passages_top1000[candidate_passages_top1000['qid'] == qid]\n",
    "    for idx2, row2 in passages_top1000_df.iterrows():\n",
    "        passage = row2['passage']\n",
    "        query = row2['query']\n",
    "        laplace_cal_dict[qid].append(QLModel_Laplace(query, passage))"
   ]
  },
  {
   "cell_type": "code",
   "execution_count": 255,
   "metadata": {},
   "outputs": [],
   "source": [
    "def laplace_ranking(number_of_retrieved, laplace_array):\n",
    "    result = np.array(laplace_array).argsort()[-number_of_retrieved:][::-1]\n",
    "    return result"
   ]
  },
  {
   "cell_type": "code",
   "execution_count": 256,
   "metadata": {},
   "outputs": [],
   "source": [
    "results_laplace = {}\n",
    "for idx, row in test_queries.iterrows():\n",
    "    qid = row['qid']\n",
    "    results_laplace[qid] = laplace_ranking(100, laplace_cal_dict[qid])"
   ]
  },
  {
   "cell_type": "code",
   "execution_count": 257,
   "metadata": {},
   "outputs": [],
   "source": [
    "laplace_top100_each_query_df = {}\n",
    "for qid, idx_list in results_laplace.items():\n",
    "    passages_top1000_df = candidate_passages_top1000[candidate_passages_top1000['qid'] == qid]\n",
    "    passages_top1000_df = passages_top1000_df.reset_index(drop=True)\n",
    "    laplace_top100 = passages_top1000_df.loc[idx_list]\n",
    "    laplace_top100 = laplace_top100.reset_index(drop=True)\n",
    "    laplace_top100['score'] = np.array(laplace_cal_dict[qid])[idx_list]\n",
    "    laplace_top100_each_query_df[qid] = laplace_top100"
   ]
  },
  {
   "cell_type": "code",
   "execution_count": 258,
   "metadata": {},
   "outputs": [],
   "source": [
    "f = open(\"LM-Laplace.txt\", \"w\")\n",
    "for df in laplace_top100_each_query_df.values():\n",
    "    for idx, row in df.iterrows():\n",
    "        qid = str(row['qid'])\n",
    "        pid = str(row['pid'])\n",
    "        score = str(row['score'])\n",
    "        rank = str(idx + 1)\n",
    "        f.write(qid + \" A1 \" + pid + \" \" + rank + \" \" + score + \" LM-Laplace\" + \"\\n\")\n",
    "f.close()"
   ]
  },
  {
   "cell_type": "code",
   "execution_count": null,
   "metadata": {},
   "outputs": [],
   "source": []
  },
  {
   "cell_type": "markdown",
   "metadata": {},
   "source": [
    "## Lindstone"
   ]
  },
  {
   "cell_type": "code",
   "execution_count": 65,
   "metadata": {},
   "outputs": [],
   "source": [
    "from math import log\n",
    "def QLModel_Lindstone(query, passage):\n",
    "    query_tokens = preprocessing(query)\n",
    "    passage_tokens = preprocessing(passage)\n",
    "    D = len(passage_tokens)\n",
    "    passage_token_freq_dict = nltk.FreqDist(passage_tokens)\n",
    "    score = 0\n",
    "    alpha = 0.5\n",
    "    for token in query_tokens:\n",
    "        score += log((passage_token_freq_dict[token] + alpha)/(D + V * alpha))\n",
    "    return score\n",
    "        "
   ]
  },
  {
   "cell_type": "code",
   "execution_count": null,
   "metadata": {},
   "outputs": [],
   "source": []
  },
  {
   "cell_type": "code",
   "execution_count": 259,
   "metadata": {},
   "outputs": [
    {
     "name": "stdout",
     "output_type": "stream",
     "text": [
      "idx: 1\n",
      "idx: 2\n",
      "idx: 3\n",
      "idx: 4\n",
      "idx: 5\n",
      "idx: 6\n",
      "idx: 7\n",
      "idx: 8\n",
      "idx: 9\n",
      "idx: 10\n",
      "idx: 11\n",
      "idx: 12\n",
      "idx: 13\n",
      "idx: 14\n",
      "idx: 15\n",
      "idx: 16\n",
      "idx: 17\n",
      "idx: 18\n",
      "idx: 19\n",
      "idx: 20\n",
      "idx: 21\n",
      "idx: 22\n",
      "idx: 23\n",
      "idx: 24\n",
      "idx: 25\n",
      "idx: 26\n",
      "idx: 27\n",
      "idx: 28\n",
      "idx: 29\n",
      "idx: 30\n",
      "idx: 31\n",
      "idx: 32\n",
      "idx: 33\n",
      "idx: 34\n",
      "idx: 35\n",
      "idx: 36\n",
      "idx: 37\n",
      "idx: 38\n",
      "idx: 39\n",
      "idx: 40\n",
      "idx: 41\n",
      "idx: 42\n",
      "idx: 43\n",
      "idx: 44\n",
      "idx: 45\n",
      "idx: 46\n",
      "idx: 47\n",
      "idx: 48\n",
      "idx: 49\n",
      "idx: 50\n",
      "idx: 51\n",
      "idx: 52\n",
      "idx: 53\n",
      "idx: 54\n",
      "idx: 55\n",
      "idx: 56\n",
      "idx: 57\n",
      "idx: 58\n",
      "idx: 59\n",
      "idx: 60\n",
      "idx: 61\n",
      "idx: 62\n",
      "idx: 63\n",
      "idx: 64\n",
      "idx: 65\n",
      "idx: 66\n",
      "idx: 67\n",
      "idx: 68\n",
      "idx: 69\n",
      "idx: 70\n",
      "idx: 71\n",
      "idx: 72\n",
      "idx: 73\n",
      "idx: 74\n",
      "idx: 75\n",
      "idx: 76\n",
      "idx: 77\n",
      "idx: 78\n",
      "idx: 79\n",
      "idx: 80\n",
      "idx: 81\n",
      "idx: 82\n",
      "idx: 83\n",
      "idx: 84\n",
      "idx: 85\n",
      "idx: 86\n",
      "idx: 87\n",
      "idx: 88\n",
      "idx: 89\n",
      "idx: 90\n",
      "idx: 91\n",
      "idx: 92\n",
      "idx: 93\n",
      "idx: 94\n",
      "idx: 95\n",
      "idx: 96\n",
      "idx: 97\n",
      "idx: 98\n",
      "idx: 99\n",
      "idx: 100\n",
      "idx: 101\n",
      "idx: 102\n",
      "idx: 103\n",
      "idx: 104\n",
      "idx: 105\n",
      "idx: 106\n",
      "idx: 107\n",
      "idx: 108\n",
      "idx: 109\n",
      "idx: 110\n",
      "idx: 111\n",
      "idx: 112\n",
      "idx: 113\n",
      "idx: 114\n",
      "idx: 115\n",
      "idx: 116\n",
      "idx: 117\n",
      "idx: 118\n",
      "idx: 119\n",
      "idx: 120\n",
      "idx: 121\n",
      "idx: 122\n",
      "idx: 123\n",
      "idx: 124\n",
      "idx: 125\n",
      "idx: 126\n",
      "idx: 127\n",
      "idx: 128\n",
      "idx: 129\n",
      "idx: 130\n",
      "idx: 131\n",
      "idx: 132\n",
      "idx: 133\n",
      "idx: 134\n",
      "idx: 135\n",
      "idx: 136\n",
      "idx: 137\n",
      "idx: 138\n",
      "idx: 139\n",
      "idx: 140\n",
      "idx: 141\n",
      "idx: 142\n",
      "idx: 143\n",
      "idx: 144\n",
      "idx: 145\n",
      "idx: 146\n",
      "idx: 147\n",
      "idx: 148\n",
      "idx: 149\n",
      "idx: 150\n",
      "idx: 151\n",
      "idx: 152\n",
      "idx: 153\n",
      "idx: 154\n",
      "idx: 155\n",
      "idx: 156\n",
      "idx: 157\n",
      "idx: 158\n",
      "idx: 159\n",
      "idx: 160\n",
      "idx: 161\n",
      "idx: 162\n",
      "idx: 163\n",
      "idx: 164\n",
      "idx: 165\n",
      "idx: 166\n",
      "idx: 167\n",
      "idx: 168\n",
      "idx: 169\n",
      "idx: 170\n",
      "idx: 171\n",
      "idx: 172\n",
      "idx: 173\n",
      "idx: 174\n",
      "idx: 175\n",
      "idx: 176\n",
      "idx: 177\n",
      "idx: 178\n",
      "idx: 179\n",
      "idx: 180\n",
      "idx: 181\n",
      "idx: 182\n",
      "idx: 183\n",
      "idx: 184\n",
      "idx: 185\n",
      "idx: 186\n",
      "idx: 187\n",
      "idx: 188\n",
      "idx: 189\n",
      "idx: 190\n",
      "idx: 191\n",
      "idx: 192\n",
      "idx: 193\n",
      "idx: 194\n",
      "idx: 195\n",
      "idx: 196\n",
      "idx: 197\n",
      "idx: 198\n",
      "idx: 199\n",
      "idx: 200\n"
     ]
    }
   ],
   "source": [
    "lindstone_cal_dict = {}\n",
    "for idx, row in test_queries.iterrows():\n",
    "    print(\"idx:\",idx + 1)\n",
    "    qid = row['qid']\n",
    "    lindstone_cal_dict[qid] = []\n",
    "    passages_top1000_df = candidate_passages_top1000[candidate_passages_top1000['qid'] == qid]\n",
    "    for idx2, row2 in passages_top1000_df.iterrows():\n",
    "        passage = row2['passage']\n",
    "        query = row2['query']\n",
    "        lindstone_cal_dict[qid].append(QLModel_Lindstone(query, passage))"
   ]
  },
  {
   "cell_type": "code",
   "execution_count": 260,
   "metadata": {},
   "outputs": [],
   "source": [
    "def lindstone_ranking(number_of_retrieved, lindstone_array):\n",
    "    result = np.array(lindstone_array).argsort()[-number_of_retrieved:][::-1]\n",
    "    return result"
   ]
  },
  {
   "cell_type": "code",
   "execution_count": 261,
   "metadata": {},
   "outputs": [],
   "source": [
    "results_lindstone = {}\n",
    "for idx, row in test_queries.iterrows():\n",
    "    qid = row['qid']\n",
    "    results_lindstone[qid] = lindstone_ranking(100, lindstone_cal_dict[qid])"
   ]
  },
  {
   "cell_type": "code",
   "execution_count": 262,
   "metadata": {},
   "outputs": [],
   "source": [
    "lindstone_top100_each_query_df = {}\n",
    "for qid, idx_list in results_lindstone.items():\n",
    "    passages_top1000_df = candidate_passages_top1000[candidate_passages_top1000['qid'] == qid]\n",
    "    passages_top1000_df = passages_top1000_df.reset_index(drop=True)\n",
    "    lindstone_top100 = passages_top1000_df.loc[idx_list]\n",
    "    lindstone_top100 = lindstone_top100.reset_index(drop=True)\n",
    "    lindstone_top100['score'] = np.array(lindstone_cal_dict[qid])[idx_list]\n",
    "    lindstone_top100_each_query_df[qid] = lindstone_top100"
   ]
  },
  {
   "cell_type": "code",
   "execution_count": 263,
   "metadata": {},
   "outputs": [],
   "source": [
    "f = open(\"LM-Lindstone.txt\", \"w\")\n",
    "for df in lindstone_top100_each_query_df.values():\n",
    "    for idx, row in df.iterrows():\n",
    "        qid = str(row['qid'])\n",
    "        pid = str(row['pid'])\n",
    "        score = str(row['score'])\n",
    "        rank = str(idx + 1)\n",
    "        f.write(qid + \" A1 \" + pid + \" \" + rank + \" \" + score + \" LM-Lindstone\" + \"\\n\") \n",
    "f.close()"
   ]
  },
  {
   "cell_type": "code",
   "execution_count": null,
   "metadata": {},
   "outputs": [],
   "source": []
  },
  {
   "cell_type": "markdown",
   "metadata": {},
   "source": [
    "## Dirichlet"
   ]
  },
  {
   "cell_type": "code",
   "execution_count": 69,
   "metadata": {},
   "outputs": [],
   "source": [
    "def get_corpus_freq(token):\n",
    "    freq = 0\n",
    "    try:\n",
    "        for tup in inverted_index[token]:\n",
    "            freq += tup[1]\n",
    "    except:\n",
    "        pass\n",
    "    return freq"
   ]
  },
  {
   "cell_type": "code",
   "execution_count": 70,
   "metadata": {},
   "outputs": [],
   "source": [
    "from math import log\n",
    "def QLModel_Dirichlet(query, passage):\n",
    "    query_tokens = preprocessing(query)\n",
    "    passage_tokens = preprocessing(passage)\n",
    "    passage_token_freq_dict = nltk.FreqDist(passage_tokens)\n",
    "    N = len(passage_tokens)\n",
    "    micro = 2000\n",
    "    score = 0\n",
    "    for token in query_tokens:\n",
    "        corpus_freq = get_corpus_freq(token)\n",
    "        lambda_dirichlet = N / (N + micro)\n",
    "        one_minus_lambda_dirichlet = micro / (N + micro)\n",
    "        first_term = lambda_dirichlet * (passage_token_freq_dict[token] / N)\n",
    "        second_term = one_minus_lambda_dirichlet * (corpus_freq / total_word_occurences)\n",
    "        if (first_term + second_term == 0):\n",
    "            continue\n",
    "        score += log(first_term + second_term)\n",
    "    return score\n",
    "        "
   ]
  },
  {
   "cell_type": "code",
   "execution_count": null,
   "metadata": {},
   "outputs": [],
   "source": []
  },
  {
   "cell_type": "code",
   "execution_count": 264,
   "metadata": {},
   "outputs": [
    {
     "name": "stdout",
     "output_type": "stream",
     "text": [
      "idx: 1\n",
      "idx: 2\n",
      "idx: 3\n",
      "idx: 4\n",
      "idx: 5\n",
      "idx: 6\n",
      "idx: 7\n",
      "idx: 8\n",
      "idx: 9\n",
      "idx: 10\n",
      "idx: 11\n",
      "idx: 12\n",
      "idx: 13\n",
      "idx: 14\n",
      "idx: 15\n",
      "idx: 16\n",
      "idx: 17\n",
      "idx: 18\n",
      "idx: 19\n",
      "idx: 20\n",
      "idx: 21\n",
      "idx: 22\n",
      "idx: 23\n",
      "idx: 24\n",
      "idx: 25\n",
      "idx: 26\n",
      "idx: 27\n",
      "idx: 28\n",
      "idx: 29\n",
      "idx: 30\n",
      "idx: 31\n",
      "idx: 32\n",
      "idx: 33\n",
      "idx: 34\n",
      "idx: 35\n",
      "idx: 36\n",
      "idx: 37\n",
      "idx: 38\n",
      "idx: 39\n",
      "idx: 40\n",
      "idx: 41\n",
      "idx: 42\n",
      "idx: 43\n",
      "idx: 44\n",
      "idx: 45\n",
      "idx: 46\n",
      "idx: 47\n",
      "idx: 48\n",
      "idx: 49\n",
      "idx: 50\n",
      "idx: 51\n",
      "idx: 52\n",
      "idx: 53\n",
      "idx: 54\n",
      "idx: 55\n",
      "idx: 56\n",
      "idx: 57\n",
      "idx: 58\n",
      "idx: 59\n",
      "idx: 60\n",
      "idx: 61\n",
      "idx: 62\n",
      "idx: 63\n",
      "idx: 64\n",
      "idx: 65\n",
      "idx: 66\n",
      "idx: 67\n",
      "idx: 68\n",
      "idx: 69\n",
      "idx: 70\n",
      "idx: 71\n",
      "idx: 72\n",
      "idx: 73\n",
      "idx: 74\n",
      "idx: 75\n",
      "idx: 76\n",
      "idx: 77\n",
      "idx: 78\n",
      "idx: 79\n",
      "idx: 80\n",
      "idx: 81\n",
      "idx: 82\n",
      "idx: 83\n",
      "idx: 84\n",
      "idx: 85\n",
      "idx: 86\n",
      "idx: 87\n",
      "idx: 88\n",
      "idx: 89\n",
      "idx: 90\n",
      "idx: 91\n",
      "idx: 92\n",
      "idx: 93\n",
      "idx: 94\n",
      "idx: 95\n",
      "idx: 96\n",
      "idx: 97\n",
      "idx: 98\n",
      "idx: 99\n",
      "idx: 100\n",
      "idx: 101\n",
      "idx: 102\n",
      "idx: 103\n",
      "idx: 104\n",
      "idx: 105\n",
      "idx: 106\n",
      "idx: 107\n",
      "idx: 108\n",
      "idx: 109\n",
      "idx: 110\n",
      "idx: 111\n",
      "idx: 112\n",
      "idx: 113\n",
      "idx: 114\n",
      "idx: 115\n",
      "idx: 116\n",
      "idx: 117\n",
      "idx: 118\n",
      "idx: 119\n",
      "idx: 120\n",
      "idx: 121\n",
      "idx: 122\n",
      "idx: 123\n",
      "idx: 124\n",
      "idx: 125\n",
      "idx: 126\n",
      "idx: 127\n",
      "idx: 128\n",
      "idx: 129\n",
      "idx: 130\n",
      "idx: 131\n",
      "idx: 132\n",
      "idx: 133\n",
      "idx: 134\n",
      "idx: 135\n",
      "idx: 136\n",
      "idx: 137\n",
      "idx: 138\n",
      "idx: 139\n",
      "idx: 140\n",
      "idx: 141\n",
      "idx: 142\n",
      "idx: 143\n",
      "idx: 144\n",
      "idx: 145\n",
      "idx: 146\n",
      "idx: 147\n",
      "idx: 148\n",
      "idx: 149\n",
      "idx: 150\n",
      "idx: 151\n",
      "idx: 152\n",
      "idx: 153\n",
      "idx: 154\n",
      "idx: 155\n",
      "idx: 156\n",
      "idx: 157\n",
      "idx: 158\n",
      "idx: 159\n",
      "idx: 160\n",
      "idx: 161\n",
      "idx: 162\n",
      "idx: 163\n",
      "idx: 164\n",
      "idx: 165\n",
      "idx: 166\n",
      "idx: 167\n",
      "idx: 168\n",
      "idx: 169\n",
      "idx: 170\n",
      "idx: 171\n",
      "idx: 172\n",
      "idx: 173\n",
      "idx: 174\n",
      "idx: 175\n",
      "idx: 176\n",
      "idx: 177\n",
      "idx: 178\n",
      "idx: 179\n",
      "idx: 180\n",
      "idx: 181\n",
      "idx: 182\n",
      "idx: 183\n",
      "idx: 184\n",
      "idx: 185\n",
      "idx: 186\n",
      "idx: 187\n",
      "idx: 188\n",
      "idx: 189\n",
      "idx: 190\n",
      "idx: 191\n",
      "idx: 192\n",
      "idx: 193\n",
      "idx: 194\n",
      "idx: 195\n",
      "idx: 196\n",
      "idx: 197\n",
      "idx: 198\n",
      "idx: 199\n",
      "idx: 200\n"
     ]
    }
   ],
   "source": [
    "dirichlet_cal_dict = {}\n",
    "for idx, row in test_queries.iterrows():\n",
    "    print(\"idx:\",idx + 1)\n",
    "    qid = row['qid']\n",
    "    dirichlet_cal_dict[qid] = []\n",
    "    passages_top1000_df = candidate_passages_top1000[candidate_passages_top1000['qid'] == qid]\n",
    "    for idx2, row2 in passages_top1000_df.iterrows():\n",
    "        passage = row2['passage']\n",
    "        query = row2['query']\n",
    "        dirichlet_cal_dict[qid].append(QLModel_Dirichlet(query, passage))"
   ]
  },
  {
   "cell_type": "code",
   "execution_count": 265,
   "metadata": {},
   "outputs": [],
   "source": [
    "def dirichlet_ranking(number_of_retrieved, dirichlet_array):\n",
    "    result = np.array(dirichlet_array).argsort()[-number_of_retrieved:][::-1]\n",
    "    return result"
   ]
  },
  {
   "cell_type": "code",
   "execution_count": 266,
   "metadata": {},
   "outputs": [],
   "source": [
    "results_dirichlet = {}\n",
    "for idx, row in test_queries.iterrows():\n",
    "    qid = row['qid']\n",
    "    results_dirichlet[qid] = dirichlet_ranking(100, dirichlet_cal_dict[qid])"
   ]
  },
  {
   "cell_type": "code",
   "execution_count": 267,
   "metadata": {},
   "outputs": [],
   "source": [
    "dirichlet_top100_each_query_df = {}\n",
    "for qid, idx_list in results_dirichlet.items():\n",
    "    passages_top1000_df = candidate_passages_top1000[candidate_passages_top1000['qid'] == qid]\n",
    "    passages_top1000_df = passages_top1000_df.reset_index(drop=True)\n",
    "    dirichlet_top100 = passages_top1000_df.loc[idx_list]\n",
    "    dirichlet_top100 = dirichlet_top100.reset_index(drop=True)\n",
    "    dirichlet_top100['score'] = np.array(dirichlet_cal_dict[qid])[idx_list]\n",
    "    dirichlet_top100_each_query_df[qid] = dirichlet_top100"
   ]
  },
  {
   "cell_type": "code",
   "execution_count": 268,
   "metadata": {},
   "outputs": [],
   "source": [
    "f = open(\"LM-Dirichlet.txt\", \"w\")\n",
    "for df in dirichlet_top100_each_query_df.values():\n",
    "    for idx, row in df.iterrows():\n",
    "        qid = str(row['qid'])\n",
    "        pid = str(row['pid'])\n",
    "        score = str(row['score'])\n",
    "        rank = str(idx + 1)\n",
    "        f.write(qid + \" A1 \" + pid + \" \" + rank + \" \" + score + \" LM-Dirichlet\" + \"\\n\")\n",
    "f.close()"
   ]
  }
 ],
 "metadata": {
  "kernelspec": {
   "display_name": "Python 3",
   "language": "python",
   "name": "python3"
  },
  "language_info": {
   "codemirror_mode": {
    "name": "ipython",
    "version": 3
   },
   "file_extension": ".py",
   "mimetype": "text/x-python",
   "name": "python",
   "nbconvert_exporter": "python",
   "pygments_lexer": "ipython3",
   "version": "3.7.9"
  }
 },
 "nbformat": 4,
 "nbformat_minor": 5
}
